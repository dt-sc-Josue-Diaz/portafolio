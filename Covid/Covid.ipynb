{
 "cells": [
  {
   "cell_type": "markdown",
   "id": "71ab65ea-0a86-41e0-baef-926fb7434f8c",
   "metadata": {},
   "source": [
    "# Análisis de datos Covid 2020\n"
   ]
  },
  {
   "cell_type": "code",
   "execution_count": 1,
   "id": "eb36567e-9699-48df-aa38-96165eec33a1",
   "metadata": {},
   "outputs": [
    {
     "name": "stderr",
     "output_type": "stream",
     "text": [
      "── \u001b[1mAttaching packages\u001b[22m ─────────────────────────────────────────────────────────────────────────────── tidyverse 1.3.1 ──\n",
      "\n",
      "\u001b[32m✔\u001b[39m \u001b[34mggplot2\u001b[39m 3.3.6     \u001b[32m✔\u001b[39m \u001b[34mpurrr  \u001b[39m 0.3.4\n",
      "\u001b[32m✔\u001b[39m \u001b[34mtibble \u001b[39m 3.1.7     \u001b[32m✔\u001b[39m \u001b[34mdplyr  \u001b[39m 1.0.9\n",
      "\u001b[32m✔\u001b[39m \u001b[34mtidyr  \u001b[39m 1.2.0     \u001b[32m✔\u001b[39m \u001b[34mstringr\u001b[39m 1.4.0\n",
      "\u001b[32m✔\u001b[39m \u001b[34mreadr  \u001b[39m 2.1.2     \u001b[32m✔\u001b[39m \u001b[34mforcats\u001b[39m 0.5.1\n",
      "\n",
      "── \u001b[1mConflicts\u001b[22m ────────────────────────────────────────────────────────────────────────────────── tidyverse_conflicts() ──\n",
      "\u001b[31m✖\u001b[39m \u001b[34mdplyr\u001b[39m::\u001b[32mfilter()\u001b[39m masks \u001b[34mstats\u001b[39m::filter()\n",
      "\u001b[31m✖\u001b[39m \u001b[34mdplyr\u001b[39m::\u001b[32mlag()\u001b[39m    masks \u001b[34mstats\u001b[39m::lag()\n",
      "\n",
      "corrplot 0.92 loaded\n",
      "\n"
     ]
    }
   ],
   "source": [
    "# Librerias:\n",
    "library(tidyverse)\n",
    "library(corrplot)"
   ]
  },
  {
   "cell_type": "code",
   "execution_count": 2,
   "id": "b6b41aab-86e2-470b-8600-215dbb5b581d",
   "metadata": {},
   "outputs": [
    {
     "name": "stderr",
     "output_type": "stream",
     "text": [
      "\u001b[1mRows: \u001b[22m\u001b[34m100000\u001b[39m \u001b[1mColumns: \u001b[22m\u001b[34m40\u001b[39m\n",
      "\u001b[36m──\u001b[39m \u001b[1mColumn specification\u001b[22m \u001b[36m────────────────────────────────────────────────────────────────────────────────────────────────\u001b[39m\n",
      "\u001b[1mDelimiter:\u001b[22m \",\"\n",
      "\u001b[31mchr\u001b[39m   (7): ID_REGISTRO, ENTIDAD_UM, ENTIDAD_NAC, ENTIDAD_RES, MUNICIPIO_RES,...\n",
      "\u001b[32mdbl\u001b[39m  (29): ORIGEN, SECTOR, SEXO, TIPO_PACIENTE, INTUBADO, NEUMONIA, EDAD, NA...\n",
      "\u001b[34mdate\u001b[39m  (4): FECHA_ACTUALIZACION, FECHA_INGRESO, FECHA_SINTOMAS, FECHA_DEF\n",
      "\n",
      "\u001b[36mℹ\u001b[39m Use `spec()` to retrieve the full column specification for this data.\n",
      "\u001b[36mℹ\u001b[39m Specify the column types or set `show_col_types = FALSE` to quiet this message.\n"
     ]
    }
   ],
   "source": [
    "# http://datosabiertos.salud.gob.mx/gobmx/salud/datos_abiertos/datos_abiertos_covid19.zip,\n",
    "Datos <- read_csv(\"covid_dataset.csv\")\n",
    "# Datos totales. Datos <- read_csv(\"220424COVID19MEXICO.csv\")"
   ]
  },
  {
   "cell_type": "code",
   "execution_count": 3,
   "id": "4a0f9521-73a9-4bf7-a17f-8d5e8fd27c60",
   "metadata": {},
   "outputs": [
    {
     "data": {
      "text/plain": [
       " FECHA_ACTUALIZACION  ID_REGISTRO            ORIGEN         SECTOR      \n",
       " Min.   :2020-12-25   Length:100000      Min.   :1.00   Min.   : 1.000  \n",
       " 1st Qu.:2020-12-25   Class :character   1st Qu.:1.00   1st Qu.: 4.000  \n",
       " Median :2020-12-25   Mode  :character   Median :2.00   Median :12.000  \n",
       " Mean   :2020-12-25                      Mean   :1.67   Mean   : 9.406  \n",
       " 3rd Qu.:2020-12-25                      3rd Qu.:2.00   3rd Qu.:12.000  \n",
       " Max.   :2020-12-25                      Max.   :2.00   Max.   :13.000  \n",
       "                                                                        \n",
       "  ENTIDAD_UM             SEXO       ENTIDAD_NAC        ENTIDAD_RES       \n",
       " Length:100000      Min.   :1.000   Length:100000      Length:100000     \n",
       " Class :character   1st Qu.:1.000   Class :character   Class :character  \n",
       " Mode  :character   Median :1.000   Mode  :character   Mode  :character  \n",
       "                    Mean   :1.485                                        \n",
       "                    3rd Qu.:2.000                                        \n",
       "                    Max.   :2.000                                        \n",
       "                                                                         \n",
       " MUNICIPIO_RES      TIPO_PACIENTE   FECHA_INGRESO        FECHA_SINTOMAS      \n",
       " Length:100000      Min.   :1.000   Min.   :2020-01-01   Min.   :2020-01-01  \n",
       " Class :character   1st Qu.:1.000   1st Qu.:2020-07-10   1st Qu.:2020-07-06  \n",
       " Mode  :character   Median :1.000   Median :2020-09-11   Median :2020-09-08  \n",
       "                    Mean   :1.138   Mean   :2020-09-06   Mean   :2020-09-02  \n",
       "                    3rd Qu.:1.000   3rd Qu.:2020-11-13   3rd Qu.:2020-11-10  \n",
       "                    Max.   :2.000   Max.   :2020-12-25   Max.   :2020-12-24  \n",
       "                                                                             \n",
       "   FECHA_DEF             INTUBADO     NEUMONIA           EDAD       \n",
       " Min.   :2020-01-08   Min.   : 1   Min.   : 1.000   Min.   :  0.00  \n",
       " 1st Qu.:2020-06-17   1st Qu.:97   1st Qu.: 2.000   1st Qu.: 29.00  \n",
       " Median :2020-08-04   Median :97   Median : 2.000   Median : 40.00  \n",
       " Mean   :2020-08-13   Mean   :84   Mean   : 2.426   Mean   : 41.25  \n",
       " 3rd Qu.:2020-10-14   3rd Qu.:97   3rd Qu.: 2.000   3rd Qu.: 52.00  \n",
       " Max.   :2020-12-24   Max.   :99   Max.   :99.000   Max.   :120.00  \n",
       " NA's   :95044                                                      \n",
       "  NACIONALIDAD      EMBARAZO     HABLA_LENGUA_INDIG    INDIGENA     \n",
       " Min.   :1.000   Min.   : 1.00   Min.   : 1.000     Min.   : 1.000  \n",
       " 1st Qu.:1.000   1st Qu.: 2.00   1st Qu.: 2.000     1st Qu.: 2.000  \n",
       " Median :1.000   Median : 2.00   Median : 2.000     Median : 2.000  \n",
       " Mean   :1.005   Mean   :48.36   Mean   : 5.992     Mean   : 5.914  \n",
       " 3rd Qu.:1.000   3rd Qu.:97.00   3rd Qu.: 2.000     3rd Qu.: 2.000  \n",
       " Max.   :2.000   Max.   :98.00   Max.   :99.000     Max.   :99.000  \n",
       "                                                                    \n",
       "    DIABETES          EPOC             ASMA           INMUSUPR     \n",
       " Min.   : 1.00   Min.   : 1.000   Min.   : 1.000   Min.   : 1.000  \n",
       " 1st Qu.: 2.00   1st Qu.: 2.000   1st Qu.: 2.000   1st Qu.: 2.000  \n",
       " Median : 2.00   Median : 2.000   Median : 2.000   Median : 2.000  \n",
       " Mean   : 2.17   Mean   : 2.256   Mean   : 2.238   Mean   : 2.277  \n",
       " 3rd Qu.: 2.00   3rd Qu.: 2.000   3rd Qu.: 2.000   3rd Qu.: 2.000  \n",
       " Max.   :98.00   Max.   :98.000   Max.   :98.000   Max.   :98.000  \n",
       "                                                                   \n",
       "  HIPERTENSION       OTRA_COM      CARDIOVASCULAR      OBESIDAD     \n",
       " Min.   : 1.000   Min.   : 1.000   Min.   : 1.000   Min.   : 1.000  \n",
       " 1st Qu.: 2.000   1st Qu.: 2.000   1st Qu.: 2.000   1st Qu.: 2.000  \n",
       " Median : 2.000   Median : 2.000   Median : 2.000   Median : 2.000  \n",
       " Mean   : 2.118   Mean   : 2.404   Mean   : 2.255   Mean   : 2.121  \n",
       " 3rd Qu.: 2.000   3rd Qu.: 2.000   3rd Qu.: 2.000   3rd Qu.: 2.000  \n",
       " Max.   :98.000   Max.   :98.000   Max.   :98.000   Max.   :98.000  \n",
       "                                                                    \n",
       " RENAL_CRONICA      TABAQUISMO       OTRO_CASO      TOMA_MUESTRA_LAB\n",
       " Min.   : 1.000   Min.   : 1.000   Min.   : 1.000   Min.   :1.000   \n",
       " 1st Qu.: 2.000   1st Qu.: 2.000   1st Qu.: 1.000   1st Qu.:1.000   \n",
       " Median : 2.000   Median : 2.000   Median : 2.000   Median :1.000   \n",
       " Mean   : 2.248   Mean   : 2.187   Mean   : 9.648   Mean   :1.153   \n",
       " 3rd Qu.: 2.000   3rd Qu.: 2.000   3rd Qu.: 2.000   3rd Qu.:1.000   \n",
       " Max.   :98.000   Max.   :98.000   Max.   :99.000   Max.   :2.000   \n",
       "                                                                    \n",
       " RESULTADO_LAB  TOMA_MUESTRA_ANTIGENO RESULTADO_ANTIGENO CLASIFICACION_FINAL\n",
       " Min.   : 1.0   Min.   :1.000         Min.   : 1.00      Min.   :1.000      \n",
       " 1st Qu.: 1.0   1st Qu.:2.000         1st Qu.:97.00      1st Qu.:3.000      \n",
       " Median : 2.0   Median :2.000         Median :97.00      Median :6.000      \n",
       " Mean   :16.3   Mean   :1.913         Mean   :88.75      Mean   :5.263      \n",
       " 3rd Qu.: 2.0   3rd Qu.:2.000         3rd Qu.:97.00      3rd Qu.:7.000      \n",
       " Max.   :97.0   Max.   :2.000         Max.   :97.00      Max.   :7.000      \n",
       "                                                                            \n",
       "    MIGRANTE    PAIS_NACIONALIDAD  PAIS_ORIGEN             UCI       \n",
       " Min.   : 1.0   Length:100000      Length:100000      Min.   : 1.00  \n",
       " 1st Qu.:99.0   Class :character   Class :character   1st Qu.:97.00  \n",
       " Median :99.0   Mode  :character   Mode  :character   Median :97.00  \n",
       " Mean   :98.6                                         Mean   :84.02  \n",
       " 3rd Qu.:99.0                                         3rd Qu.:97.00  \n",
       " Max.   :99.0                                         Max.   :99.00  \n",
       "                                                                     "
      ]
     },
     "metadata": {},
     "output_type": "display_data"
    },
    {
     "name": "stdout",
     "output_type": "stream",
     "text": [
      "Rows: 100,000\n",
      "Columns: 40\n",
      "$ FECHA_ACTUALIZACION   \u001b[3m\u001b[90m<date>\u001b[39m\u001b[23m 2020-12-25, 2020-12-25, 2020-12-25, 2020-12-25,…\n",
      "$ ID_REGISTRO           \u001b[3m\u001b[90m<chr>\u001b[39m\u001b[23m \"3f4171\", \"2fd222\", \"0838e2\", \"2bc493\", \"31ed7f\"…\n",
      "$ ORIGEN                \u001b[3m\u001b[90m<dbl>\u001b[39m\u001b[23m 2, 2, 2, 1, 2, 2, 1, 2, 1, 2, 2, 2, 1, 2, 2, 2, …\n",
      "$ SECTOR                \u001b[3m\u001b[90m<dbl>\u001b[39m\u001b[23m 12, 12, 5, 4, 4, 9, 12, 12, 4, 12, 12, 12, 12, 1…\n",
      "$ ENTIDAD_UM            \u001b[3m\u001b[90m<chr>\u001b[39m\u001b[23m \"09\", \"09\", \"20\", \"06\", \"23\", \"19\", \"19\", \"21\", …\n",
      "$ SEXO                  \u001b[3m\u001b[90m<dbl>\u001b[39m\u001b[23m 2, 1, 2, 2, 2, 2, 1, 1, 2, 1, 2, 1, 2, 1, 2, 2, …\n",
      "$ ENTIDAD_NAC           \u001b[3m\u001b[90m<chr>\u001b[39m\u001b[23m \"09\", \"09\", \"15\", \"14\", \"30\", \"19\", \"19\", \"09\", …\n",
      "$ ENTIDAD_RES           \u001b[3m\u001b[90m<chr>\u001b[39m\u001b[23m \"09\", \"09\", \"20\", \"06\", \"23\", \"19\", \"19\", \"21\", …\n",
      "$ MUNICIPIO_RES         \u001b[3m\u001b[90m<chr>\u001b[39m\u001b[23m \"005\", \"007\", \"160\", \"010\", \"005\", \"039\", \"006\",…\n",
      "$ TIPO_PACIENTE         \u001b[3m\u001b[90m<dbl>\u001b[39m\u001b[23m 1, 1, 1, 1, 1, 1, 1, 1, 1, 1, 1, 1, 1, 1, 1, 2, …\n",
      "$ FECHA_INGRESO         \u001b[3m\u001b[90m<date>\u001b[39m\u001b[23m 2020-10-20, 2020-12-04, 2020-04-17, 2020-11-24,…\n",
      "$ FECHA_SINTOMAS        \u001b[3m\u001b[90m<date>\u001b[39m\u001b[23m 2020-10-20, 2020-12-01, 2020-04-14, 2020-11-21,…\n",
      "$ FECHA_DEF             \u001b[3m\u001b[90m<date>\u001b[39m\u001b[23m NA, NA, NA, NA, NA, NA, NA, NA, NA, NA, NA, NA,…\n",
      "$ INTUBADO              \u001b[3m\u001b[90m<dbl>\u001b[39m\u001b[23m 97, 97, 97, 97, 97, 97, 97, 97, 97, 97, 97, 97, …\n",
      "$ NEUMONIA              \u001b[3m\u001b[90m<dbl>\u001b[39m\u001b[23m 2, 2, 2, 2, 2, 2, 2, 2, 2, 2, 2, 2, 2, 2, 2, 1, …\n",
      "$ EDAD                  \u001b[3m\u001b[90m<dbl>\u001b[39m\u001b[23m 38, 78, 27, 42, 44, 61, 39, 41, 29, 32, 60, 46, …\n",
      "$ NACIONALIDAD          \u001b[3m\u001b[90m<dbl>\u001b[39m\u001b[23m 1, 1, 1, 1, 1, 1, 1, 1, 1, 1, 1, 1, 1, 1, 1, 1, …\n",
      "$ EMBARAZO              \u001b[3m\u001b[90m<dbl>\u001b[39m\u001b[23m 97, 2, 97, 97, 97, 97, 2, 2, 97, 2, 97, 2, 97, 2…\n",
      "$ HABLA_LENGUA_INDIG    \u001b[3m\u001b[90m<dbl>\u001b[39m\u001b[23m 2, 2, 2, 2, 2, 2, 2, 2, 2, 2, 2, 2, 2, 2, 2, 2, …\n",
      "$ INDIGENA              \u001b[3m\u001b[90m<dbl>\u001b[39m\u001b[23m 2, 2, 2, 2, 2, 2, 2, 2, 2, 2, 2, 2, 2, 2, 2, 2, …\n",
      "$ DIABETES              \u001b[3m\u001b[90m<dbl>\u001b[39m\u001b[23m 2, 2, 2, 2, 2, 2, 2, 2, 2, 2, 2, 2, 2, 2, 1, 2, …\n",
      "$ EPOC                  \u001b[3m\u001b[90m<dbl>\u001b[39m\u001b[23m 2, 2, 2, 2, 2, 2, 2, 2, 2, 2, 2, 2, 2, 2, 2, 2, …\n",
      "$ ASMA                  \u001b[3m\u001b[90m<dbl>\u001b[39m\u001b[23m 2, 2, 2, 2, 2, 2, 2, 2, 2, 2, 2, 2, 2, 2, 2, 2, …\n",
      "$ INMUSUPR              \u001b[3m\u001b[90m<dbl>\u001b[39m\u001b[23m 2, 2, 2, 2, 2, 2, 2, 2, 2, 2, 2, 2, 2, 2, 2, 2, …\n",
      "$ HIPERTENSION          \u001b[3m\u001b[90m<dbl>\u001b[39m\u001b[23m 2, 2, 2, 2, 1, 2, 2, 2, 2, 2, 2, 2, 1, 2, 2, 2, …\n",
      "$ OTRA_COM              \u001b[3m\u001b[90m<dbl>\u001b[39m\u001b[23m 2, 2, 2, 2, 2, 2, 2, 2, 2, 2, 2, 2, 2, 2, 2, 2, …\n",
      "$ CARDIOVASCULAR        \u001b[3m\u001b[90m<dbl>\u001b[39m\u001b[23m 2, 2, 2, 2, 2, 2, 2, 2, 2, 2, 2, 2, 2, 2, 2, 2, …\n",
      "$ OBESIDAD              \u001b[3m\u001b[90m<dbl>\u001b[39m\u001b[23m 2, 2, 2, 2, 2, 2, 2, 2, 2, 2, 2, 2, 1, 2, 2, 2, …\n",
      "$ RENAL_CRONICA         \u001b[3m\u001b[90m<dbl>\u001b[39m\u001b[23m 2, 2, 2, 2, 2, 2, 2, 2, 2, 2, 2, 2, 2, 2, 2, 2, …\n",
      "$ TABAQUISMO            \u001b[3m\u001b[90m<dbl>\u001b[39m\u001b[23m 1, 2, 2, 2, 2, 2, 2, 2, 2, 2, 2, 1, 2, 1, 2, 1, …\n",
      "$ OTRO_CASO             \u001b[3m\u001b[90m<dbl>\u001b[39m\u001b[23m 2, 2, 99, 2, 2, 2, 2, 1, 2, 1, 2, 1, 1, 1, 99, 2…\n",
      "$ TOMA_MUESTRA_LAB      \u001b[3m\u001b[90m<dbl>\u001b[39m\u001b[23m 1, 2, 1, 1, 1, 1, 1, 1, 1, 1, 1, 1, 1, 1, 1, 1, …\n",
      "$ RESULTADO_LAB         \u001b[3m\u001b[90m<dbl>\u001b[39m\u001b[23m 2, 97, 2, 2, 1, 2, 2, 2, 1, 1, 2, 2, 3, 1, 1, 2,…\n",
      "$ TOMA_MUESTRA_ANTIGENO \u001b[3m\u001b[90m<dbl>\u001b[39m\u001b[23m 2, 1, 2, 2, 2, 2, 2, 2, 2, 2, 2, 2, 1, 2, 2, 2, …\n",
      "$ RESULTADO_ANTIGENO    \u001b[3m\u001b[90m<dbl>\u001b[39m\u001b[23m 97, 1, 97, 97, 97, 97, 97, 97, 97, 97, 97, 97, 2…\n",
      "$ CLASIFICACION_FINAL   \u001b[3m\u001b[90m<dbl>\u001b[39m\u001b[23m 7, 3, 7, 7, 3, 7, 7, 7, 3, 3, 7, 7, 6, 3, 3, 7, …\n",
      "$ MIGRANTE              \u001b[3m\u001b[90m<dbl>\u001b[39m\u001b[23m 99, 99, 99, 99, 99, 99, 99, 99, 99, 99, 99, 99, …\n",
      "$ PAIS_NACIONALIDAD     \u001b[3m\u001b[90m<chr>\u001b[39m\u001b[23m \"México\", \"México\", \"México\", \"México\", \"México\"…\n",
      "$ PAIS_ORIGEN           \u001b[3m\u001b[90m<chr>\u001b[39m\u001b[23m \"97\", \"97\", \"97\", \"97\", \"97\", \"97\", \"97\", \"97\", …\n",
      "$ UCI                   \u001b[3m\u001b[90m<dbl>\u001b[39m\u001b[23m 97, 97, 97, 97, 97, 97, 97, 97, 97, 97, 97, 97, …\n"
     ]
    }
   ],
   "source": [
    "# Resumen estadístico\n",
    "summary(Datos)\n",
    "# Tipo de datos\n",
    "glimpse(Datos)"
   ]
  },
  {
   "cell_type": "code",
   "execution_count": 4,
   "id": "74d15b37-682c-464e-95aa-91410cebd603",
   "metadata": {},
   "outputs": [
    {
     "data": {
      "text/html": [
       "<table class=\"dataframe\">\n",
       "<caption>A tibble: 1 × 1</caption>\n",
       "<thead>\n",
       "\t<tr><th scope=col>Casos Positivos</th></tr>\n",
       "\t<tr><th scope=col>&lt;int&gt;</th></tr>\n",
       "</thead>\n",
       "<tbody>\n",
       "\t<tr><td>39220</td></tr>\n",
       "</tbody>\n",
       "</table>\n"
      ],
      "text/latex": [
       "A tibble: 1 × 1\n",
       "\\begin{tabular}{l}\n",
       " Casos Positivos\\\\\n",
       " <int>\\\\\n",
       "\\hline\n",
       "\t 39220\\\\\n",
       "\\end{tabular}\n"
      ],
      "text/markdown": [
       "\n",
       "A tibble: 1 × 1\n",
       "\n",
       "| Casos Positivos &lt;int&gt; |\n",
       "|---|\n",
       "| 39220 |\n",
       "\n"
      ],
      "text/plain": [
       "  Casos Positivos\n",
       "1 39220          "
      ]
     },
     "metadata": {},
     "output_type": "display_data"
    }
   ],
   "source": [
    "# Data frame con los resgistros de casos positivos\n",
    "Casos_positivos <- Datos %>% select(CLASIFICACION_FINAL) %>%\n",
    "  filter(CLASIFICACION_FINAL == 1 | CLASIFICACION_FINAL == 2 | CLASIFICACION_FINAL == 3 ) %>%\n",
    "  summarise(\"Casos Positivos\" = n())\n",
    "\n",
    "Casos_positivos"
   ]
  },
  {
   "cell_type": "code",
   "execution_count": 5,
   "id": "a80d55ca-4f1b-4152-b39a-6a4866c105a2",
   "metadata": {},
   "outputs": [
    {
     "data": {
      "text/html": [
       "<table class=\"dataframe\">\n",
       "<caption>A data.frame: 40 × 1</caption>\n",
       "<thead>\n",
       "\t<tr><th></th><th scope=col>.</th></tr>\n",
       "\t<tr><th></th><th scope=col>&lt;int&gt;</th></tr>\n",
       "</thead>\n",
       "<tbody>\n",
       "\t<tr><th scope=row>FECHA_ACTUALIZACION</th><td>    0</td></tr>\n",
       "\t<tr><th scope=row>ID_REGISTRO</th><td>    0</td></tr>\n",
       "\t<tr><th scope=row>ORIGEN</th><td>    0</td></tr>\n",
       "\t<tr><th scope=row>SECTOR</th><td>    0</td></tr>\n",
       "\t<tr><th scope=row>ENTIDAD_UM</th><td>    0</td></tr>\n",
       "\t<tr><th scope=row>SEXO</th><td>    0</td></tr>\n",
       "\t<tr><th scope=row>ENTIDAD_NAC</th><td>    0</td></tr>\n",
       "\t<tr><th scope=row>ENTIDAD_RES</th><td>    0</td></tr>\n",
       "\t<tr><th scope=row>MUNICIPIO_RES</th><td>    0</td></tr>\n",
       "\t<tr><th scope=row>TIPO_PACIENTE</th><td>    0</td></tr>\n",
       "\t<tr><th scope=row>FECHA_INGRESO</th><td>    0</td></tr>\n",
       "\t<tr><th scope=row>FECHA_SINTOMAS</th><td>    0</td></tr>\n",
       "\t<tr><th scope=row>FECHA_DEF</th><td>95044</td></tr>\n",
       "\t<tr><th scope=row>INTUBADO</th><td>    0</td></tr>\n",
       "\t<tr><th scope=row>NEUMONIA</th><td>    0</td></tr>\n",
       "\t<tr><th scope=row>EDAD</th><td>    0</td></tr>\n",
       "\t<tr><th scope=row>NACIONALIDAD</th><td>    0</td></tr>\n",
       "\t<tr><th scope=row>EMBARAZO</th><td>    0</td></tr>\n",
       "\t<tr><th scope=row>HABLA_LENGUA_INDIG</th><td>    0</td></tr>\n",
       "\t<tr><th scope=row>INDIGENA</th><td>    0</td></tr>\n",
       "\t<tr><th scope=row>DIABETES</th><td>    0</td></tr>\n",
       "\t<tr><th scope=row>EPOC</th><td>    0</td></tr>\n",
       "\t<tr><th scope=row>ASMA</th><td>    0</td></tr>\n",
       "\t<tr><th scope=row>INMUSUPR</th><td>    0</td></tr>\n",
       "\t<tr><th scope=row>HIPERTENSION</th><td>    0</td></tr>\n",
       "\t<tr><th scope=row>OTRA_COM</th><td>    0</td></tr>\n",
       "\t<tr><th scope=row>CARDIOVASCULAR</th><td>    0</td></tr>\n",
       "\t<tr><th scope=row>OBESIDAD</th><td>    0</td></tr>\n",
       "\t<tr><th scope=row>RENAL_CRONICA</th><td>    0</td></tr>\n",
       "\t<tr><th scope=row>TABAQUISMO</th><td>    0</td></tr>\n",
       "\t<tr><th scope=row>OTRO_CASO</th><td>    0</td></tr>\n",
       "\t<tr><th scope=row>TOMA_MUESTRA_LAB</th><td>    0</td></tr>\n",
       "\t<tr><th scope=row>RESULTADO_LAB</th><td>    0</td></tr>\n",
       "\t<tr><th scope=row>TOMA_MUESTRA_ANTIGENO</th><td>    0</td></tr>\n",
       "\t<tr><th scope=row>RESULTADO_ANTIGENO</th><td>    0</td></tr>\n",
       "\t<tr><th scope=row>CLASIFICACION_FINAL</th><td>    0</td></tr>\n",
       "\t<tr><th scope=row>MIGRANTE</th><td>    0</td></tr>\n",
       "\t<tr><th scope=row>PAIS_NACIONALIDAD</th><td>    0</td></tr>\n",
       "\t<tr><th scope=row>PAIS_ORIGEN</th><td>    0</td></tr>\n",
       "\t<tr><th scope=row>UCI</th><td>    0</td></tr>\n",
       "</tbody>\n",
       "</table>\n"
      ],
      "text/latex": [
       "A data.frame: 40 × 1\n",
       "\\begin{tabular}{r|l}\n",
       "  & .\\\\\n",
       "  & <int>\\\\\n",
       "\\hline\n",
       "\tFECHA\\_ACTUALIZACION &     0\\\\\n",
       "\tID\\_REGISTRO &     0\\\\\n",
       "\tORIGEN &     0\\\\\n",
       "\tSECTOR &     0\\\\\n",
       "\tENTIDAD\\_UM &     0\\\\\n",
       "\tSEXO &     0\\\\\n",
       "\tENTIDAD\\_NAC &     0\\\\\n",
       "\tENTIDAD\\_RES &     0\\\\\n",
       "\tMUNICIPIO\\_RES &     0\\\\\n",
       "\tTIPO\\_PACIENTE &     0\\\\\n",
       "\tFECHA\\_INGRESO &     0\\\\\n",
       "\tFECHA\\_SINTOMAS &     0\\\\\n",
       "\tFECHA\\_DEF & 95044\\\\\n",
       "\tINTUBADO &     0\\\\\n",
       "\tNEUMONIA &     0\\\\\n",
       "\tEDAD &     0\\\\\n",
       "\tNACIONALIDAD &     0\\\\\n",
       "\tEMBARAZO &     0\\\\\n",
       "\tHABLA\\_LENGUA\\_INDIG &     0\\\\\n",
       "\tINDIGENA &     0\\\\\n",
       "\tDIABETES &     0\\\\\n",
       "\tEPOC &     0\\\\\n",
       "\tASMA &     0\\\\\n",
       "\tINMUSUPR &     0\\\\\n",
       "\tHIPERTENSION &     0\\\\\n",
       "\tOTRA\\_COM &     0\\\\\n",
       "\tCARDIOVASCULAR &     0\\\\\n",
       "\tOBESIDAD &     0\\\\\n",
       "\tRENAL\\_CRONICA &     0\\\\\n",
       "\tTABAQUISMO &     0\\\\\n",
       "\tOTRO\\_CASO &     0\\\\\n",
       "\tTOMA\\_MUESTRA\\_LAB &     0\\\\\n",
       "\tRESULTADO\\_LAB &     0\\\\\n",
       "\tTOMA\\_MUESTRA\\_ANTIGENO &     0\\\\\n",
       "\tRESULTADO\\_ANTIGENO &     0\\\\\n",
       "\tCLASIFICACION\\_FINAL &     0\\\\\n",
       "\tMIGRANTE &     0\\\\\n",
       "\tPAIS\\_NACIONALIDAD &     0\\\\\n",
       "\tPAIS\\_ORIGEN &     0\\\\\n",
       "\tUCI &     0\\\\\n",
       "\\end{tabular}\n"
      ],
      "text/markdown": [
       "\n",
       "A data.frame: 40 × 1\n",
       "\n",
       "| <!--/--> | . &lt;int&gt; |\n",
       "|---|---|\n",
       "| FECHA_ACTUALIZACION |     0 |\n",
       "| ID_REGISTRO |     0 |\n",
       "| ORIGEN |     0 |\n",
       "| SECTOR |     0 |\n",
       "| ENTIDAD_UM |     0 |\n",
       "| SEXO |     0 |\n",
       "| ENTIDAD_NAC |     0 |\n",
       "| ENTIDAD_RES |     0 |\n",
       "| MUNICIPIO_RES |     0 |\n",
       "| TIPO_PACIENTE |     0 |\n",
       "| FECHA_INGRESO |     0 |\n",
       "| FECHA_SINTOMAS |     0 |\n",
       "| FECHA_DEF | 95044 |\n",
       "| INTUBADO |     0 |\n",
       "| NEUMONIA |     0 |\n",
       "| EDAD |     0 |\n",
       "| NACIONALIDAD |     0 |\n",
       "| EMBARAZO |     0 |\n",
       "| HABLA_LENGUA_INDIG |     0 |\n",
       "| INDIGENA |     0 |\n",
       "| DIABETES |     0 |\n",
       "| EPOC |     0 |\n",
       "| ASMA |     0 |\n",
       "| INMUSUPR |     0 |\n",
       "| HIPERTENSION |     0 |\n",
       "| OTRA_COM |     0 |\n",
       "| CARDIOVASCULAR |     0 |\n",
       "| OBESIDAD |     0 |\n",
       "| RENAL_CRONICA |     0 |\n",
       "| TABAQUISMO |     0 |\n",
       "| OTRO_CASO |     0 |\n",
       "| TOMA_MUESTRA_LAB |     0 |\n",
       "| RESULTADO_LAB |     0 |\n",
       "| TOMA_MUESTRA_ANTIGENO |     0 |\n",
       "| RESULTADO_ANTIGENO |     0 |\n",
       "| CLASIFICACION_FINAL |     0 |\n",
       "| MIGRANTE |     0 |\n",
       "| PAIS_NACIONALIDAD |     0 |\n",
       "| PAIS_ORIGEN |     0 |\n",
       "| UCI |     0 |\n",
       "\n"
      ],
      "text/plain": [
       "                      .    \n",
       "FECHA_ACTUALIZACION       0\n",
       "ID_REGISTRO               0\n",
       "ORIGEN                    0\n",
       "SECTOR                    0\n",
       "ENTIDAD_UM                0\n",
       "SEXO                      0\n",
       "ENTIDAD_NAC               0\n",
       "ENTIDAD_RES               0\n",
       "MUNICIPIO_RES             0\n",
       "TIPO_PACIENTE             0\n",
       "FECHA_INGRESO             0\n",
       "FECHA_SINTOMAS            0\n",
       "FECHA_DEF             95044\n",
       "INTUBADO                  0\n",
       "NEUMONIA                  0\n",
       "EDAD                      0\n",
       "NACIONALIDAD              0\n",
       "EMBARAZO                  0\n",
       "HABLA_LENGUA_INDIG        0\n",
       "INDIGENA                  0\n",
       "DIABETES                  0\n",
       "EPOC                      0\n",
       "ASMA                      0\n",
       "INMUSUPR                  0\n",
       "HIPERTENSION              0\n",
       "OTRA_COM                  0\n",
       "CARDIOVASCULAR            0\n",
       "OBESIDAD                  0\n",
       "RENAL_CRONICA             0\n",
       "TABAQUISMO                0\n",
       "OTRO_CASO                 0\n",
       "TOMA_MUESTRA_LAB          0\n",
       "RESULTADO_LAB             0\n",
       "TOMA_MUESTRA_ANTIGENO     0\n",
       "RESULTADO_ANTIGENO        0\n",
       "CLASIFICACION_FINAL       0\n",
       "MIGRANTE                  0\n",
       "PAIS_NACIONALIDAD         0\n",
       "PAIS_ORIGEN               0\n",
       "UCI                       0"
      ]
     },
     "metadata": {},
     "output_type": "display_data"
    }
   ],
   "source": [
    "# El numero de registros nulos por columna \n",
    "Datos_faltantes <- Datos %>% \n",
    "    sapply(is.na) %>% \n",
    "    as.data.frame() %>% \n",
    "    apply(2,sum) %>% \n",
    "    as.data.frame()\n",
    "\n",
    "Datos_faltantes"
   ]
  },
  {
   "cell_type": "code",
   "execution_count": 6,
   "id": "e1d3d737-8894-442a-a54e-3a6b31ca681e",
   "metadata": {},
   "outputs": [
    {
     "data": {
      "text/html": [
       "41.24766"
      ],
      "text/latex": [
       "41.24766"
      ],
      "text/markdown": [
       "41.24766"
      ],
      "text/plain": [
       "[1] 41.24766"
      ]
     },
     "metadata": {},
     "output_type": "display_data"
    }
   ],
   "source": [
    "# La media de edades de los contagiados de covid\n",
    "Media_casos_positivos <- Datos$EDAD %>% mean()\n",
    "Media_casos_positivos"
   ]
  },
  {
   "cell_type": "code",
   "execution_count": 7,
   "id": "161bca93-48fb-4d9b-84e5-e1feb1230e70",
   "metadata": {},
   "outputs": [
    {
     "data": {
      "image/png": "[encoded data removed]",
      "text/plain": [
       "plot without title"
      ]
     },
     "metadata": {
      "image/png": {
       "height": 420,
       "width": 420
      }
     },
     "output_type": "display_data"
    }
   ],
   "source": [
    "# Histograma de las edades de los contagiados \n",
    "ggplot(Datos, aes(x = EDAD)) +\n",
    "  geom_histogram(binwidth=0.1, aes(fill=..count..), col='black')"
   ]
  },
  {
   "cell_type": "code",
   "execution_count": 8,
   "id": "8e1cc299-2a8d-4522-9352-8fd14c5af148",
   "metadata": {},
   "outputs": [
    {
     "data": {
      "image/png": "[encoded data removed]",
      "text/plain": [
       "plot without title"
      ]
     },
     "metadata": {
      "image/png": {
       "height": 420,
       "width": 420
      }
     },
     "output_type": "display_data"
    }
   ],
   "source": [
    "# Grafica de densidad de edades de los contagiados\n",
    "ggplot(Datos, aes(x = EDAD)) + \n",
    "    geom_density(position = \"stack\")"
   ]
  },
  {
   "cell_type": "code",
   "execution_count": 9,
   "id": "62e6b85f-b9c8-400e-baac-ab8fa4a56b4a",
   "metadata": {},
   "outputs": [],
   "source": [
    "# Columna nueva al dataframe que tiene valor 1 cuando la fecha\n",
    "# de defuncion no es valor nulo y 0 cuando es nulo \n",
    "# La columna que contiene la fecha de defuncion se llama FECHA_DEF \n",
    "Datos_columna_extra <- Datos %>% \n",
    "  mutate(Categoria_Defuncion = ifelse(is.na(FECHA_DEF), 0, 1))"
   ]
  },
  {
   "cell_type": "code",
   "execution_count": 10,
   "id": "b714e109-d571-45f3-beeb-414273706324",
   "metadata": {},
   "outputs": [
    {
     "data": {
      "image/png": "[encoded data removed]",
      "text/plain": [
       "plot without title"
      ]
     },
     "metadata": {
      "image/png": {
       "height": 420,
       "width": 420
      }
     },
     "output_type": "display_data"
    }
   ],
   "source": [
    "#8) Boxplot de edades de los muertos por covid vs lo que no murieron.\n",
    "\n",
    "# Cambiamos de nombres de \"0\" a \"Muertes\" y \"1\" a \"vivos\" para la estetica de la\n",
    "# gráfica. Con este data frame vamos a graficas los boxplots, por eso no tenemos \n",
    "# toda la tabla.\n",
    "\n",
    "Datos_edad_fallecidos <-  Datos_columna_extra %>% \n",
    "  transform(Categoria_Defuncion = case_when(\n",
    "  Categoria_Defuncion == 1 ~ \"Muertes\",\n",
    "  TRUE ~ \"Vivos\"\n",
    "  )) \n",
    "\n",
    "\n",
    "ggplot(data = Datos_edad_fallecidos, aes(x = as.factor(Categoria_Defuncion),\n",
    "                                         y =  EDAD, fill = Categoria_Defuncion )) + \n",
    "  geom_boxplot() + ylab(\"Edad\") + xlab(\"\")\n",
    "\n"
   ]
  },
  {
   "cell_type": "markdown",
   "id": "deab9918-77cc-453c-a9f8-62f6c31640f4",
   "metadata": {},
   "source": [
    " Observaciones. Se distinque el hecho de que las personas fallecidas estaban en una edad superior a los 60 a?os,\n",
    " son atipicos las muertes en menores de 25 a?os, donde la mayoria de las personas contagiadas\n",
    " no fallecieron. "
   ]
  },
  {
   "cell_type": "code",
   "execution_count": 11,
   "id": "59f639cf-e40d-4b1c-920c-bc1478e69edf",
   "metadata": {},
   "outputs": [
    {
     "data": {
      "text/plain": [
       " FECHA_ACTUALIZACION  ID_REGISTRO            ORIGEN         SECTOR      \n",
       " Min.   :2020-12-25   Length:100000      Min.   :1.00   Min.   : 1.000  \n",
       " 1st Qu.:2020-12-25   Class :character   1st Qu.:1.00   1st Qu.: 4.000  \n",
       " Median :2020-12-25   Mode  :character   Median :2.00   Median :12.000  \n",
       " Mean   :2020-12-25                      Mean   :1.67   Mean   : 9.406  \n",
       " 3rd Qu.:2020-12-25                      3rd Qu.:2.00   3rd Qu.:12.000  \n",
       " Max.   :2020-12-25                      Max.   :2.00   Max.   :13.000  \n",
       "                                                                        \n",
       "  ENTIDAD_UM             SEXO       ENTIDAD_NAC        ENTIDAD_RES       \n",
       " Length:100000      Min.   :1.000   Length:100000      Length:100000     \n",
       " Class :character   1st Qu.:1.000   Class :character   Class :character  \n",
       " Mode  :character   Median :1.000   Mode  :character   Mode  :character  \n",
       "                    Mean   :1.485                                        \n",
       "                    3rd Qu.:2.000                                        \n",
       "                    Max.   :2.000                                        \n",
       "                                                                         \n",
       " MUNICIPIO_RES      TIPO_PACIENTE   FECHA_INGRESO        FECHA_SINTOMAS      \n",
       " Length:100000      Min.   :1.000   Min.   :2020-01-01   Min.   :2020-01-01  \n",
       " Class :character   1st Qu.:1.000   1st Qu.:2020-07-10   1st Qu.:2020-07-06  \n",
       " Mode  :character   Median :1.000   Median :2020-09-11   Median :2020-09-08  \n",
       "                    Mean   :1.138   Mean   :2020-09-06   Mean   :2020-09-02  \n",
       "                    3rd Qu.:1.000   3rd Qu.:2020-11-13   3rd Qu.:2020-11-10  \n",
       "                    Max.   :2.000   Max.   :2020-12-25   Max.   :2020-12-24  \n",
       "                                                                             \n",
       "   FECHA_DEF             INTUBADO     NEUMONIA           EDAD       \n",
       " Min.   :2020-01-08   Min.   : 1   Min.   : 1.000   Min.   :  0.00  \n",
       " 1st Qu.:2020-06-17   1st Qu.:97   1st Qu.: 2.000   1st Qu.: 29.00  \n",
       " Median :2020-08-04   Median :97   Median : 2.000   Median : 40.00  \n",
       " Mean   :2020-08-13   Mean   :84   Mean   : 2.426   Mean   : 41.25  \n",
       " 3rd Qu.:2020-10-14   3rd Qu.:97   3rd Qu.: 2.000   3rd Qu.: 52.00  \n",
       " Max.   :2020-12-24   Max.   :99   Max.   :99.000   Max.   :120.00  \n",
       " NA's   :95044                                                      \n",
       "  NACIONALIDAD      EMBARAZO     HABLA_LENGUA_INDIG    INDIGENA     \n",
       " Min.   :1.000   Min.   : 1.00   Min.   : 1.000     Min.   : 1.000  \n",
       " 1st Qu.:1.000   1st Qu.: 2.00   1st Qu.: 2.000     1st Qu.: 2.000  \n",
       " Median :1.000   Median : 2.00   Median : 2.000     Median : 2.000  \n",
       " Mean   :1.005   Mean   :48.36   Mean   : 5.992     Mean   : 5.914  \n",
       " 3rd Qu.:1.000   3rd Qu.:97.00   3rd Qu.: 2.000     3rd Qu.: 2.000  \n",
       " Max.   :2.000   Max.   :98.00   Max.   :99.000     Max.   :99.000  \n",
       "                                                                    \n",
       "    DIABETES          EPOC             ASMA           INMUSUPR     \n",
       " Min.   : 1.00   Min.   : 1.000   Min.   : 1.000   Min.   : 1.000  \n",
       " 1st Qu.: 2.00   1st Qu.: 2.000   1st Qu.: 2.000   1st Qu.: 2.000  \n",
       " Median : 2.00   Median : 2.000   Median : 2.000   Median : 2.000  \n",
       " Mean   : 2.17   Mean   : 2.256   Mean   : 2.238   Mean   : 2.277  \n",
       " 3rd Qu.: 2.00   3rd Qu.: 2.000   3rd Qu.: 2.000   3rd Qu.: 2.000  \n",
       " Max.   :98.00   Max.   :98.000   Max.   :98.000   Max.   :98.000  \n",
       "                                                                   \n",
       "  HIPERTENSION       OTRA_COM      CARDIOVASCULAR      OBESIDAD     \n",
       " Min.   : 1.000   Min.   : 1.000   Min.   : 1.000   Min.   : 1.000  \n",
       " 1st Qu.: 2.000   1st Qu.: 2.000   1st Qu.: 2.000   1st Qu.: 2.000  \n",
       " Median : 2.000   Median : 2.000   Median : 2.000   Median : 2.000  \n",
       " Mean   : 2.118   Mean   : 2.404   Mean   : 2.255   Mean   : 2.121  \n",
       " 3rd Qu.: 2.000   3rd Qu.: 2.000   3rd Qu.: 2.000   3rd Qu.: 2.000  \n",
       " Max.   :98.000   Max.   :98.000   Max.   :98.000   Max.   :98.000  \n",
       "                                                                    \n",
       " RENAL_CRONICA      TABAQUISMO       OTRO_CASO      TOMA_MUESTRA_LAB\n",
       " Min.   : 1.000   Min.   : 1.000   Min.   : 1.000   Min.   :1.000   \n",
       " 1st Qu.: 2.000   1st Qu.: 2.000   1st Qu.: 1.000   1st Qu.:1.000   \n",
       " Median : 2.000   Median : 2.000   Median : 2.000   Median :1.000   \n",
       " Mean   : 2.248   Mean   : 2.187   Mean   : 9.648   Mean   :1.153   \n",
       " 3rd Qu.: 2.000   3rd Qu.: 2.000   3rd Qu.: 2.000   3rd Qu.:1.000   \n",
       " Max.   :98.000   Max.   :98.000   Max.   :99.000   Max.   :2.000   \n",
       "                                                                    \n",
       " RESULTADO_LAB  TOMA_MUESTRA_ANTIGENO RESULTADO_ANTIGENO CLASIFICACION_FINAL\n",
       " Min.   : 1.0   Min.   :1.000         Min.   : 1.00      Min.   :1.000      \n",
       " 1st Qu.: 1.0   1st Qu.:2.000         1st Qu.:97.00      1st Qu.:3.000      \n",
       " Median : 2.0   Median :2.000         Median :97.00      Median :6.000      \n",
       " Mean   :16.3   Mean   :1.913         Mean   :88.75      Mean   :5.263      \n",
       " 3rd Qu.: 2.0   3rd Qu.:2.000         3rd Qu.:97.00      3rd Qu.:7.000      \n",
       " Max.   :97.0   Max.   :2.000         Max.   :97.00      Max.   :7.000      \n",
       "                                                                            \n",
       "    MIGRANTE    PAIS_NACIONALIDAD  PAIS_ORIGEN             UCI       \n",
       " Min.   : 1.0   Length:100000      Length:100000      Min.   : 1.00  \n",
       " 1st Qu.:99.0   Class :character   Class :character   1st Qu.:97.00  \n",
       " Median :99.0   Mode  :character   Mode  :character   Median :97.00  \n",
       " Mean   :98.6                                         Mean   :84.02  \n",
       " 3rd Qu.:99.0                                         3rd Qu.:97.00  \n",
       " Max.   :99.0                                         Max.   :99.00  \n",
       "                                                                     \n",
       " Categoria_Defuncion\n",
       " Length:100000      \n",
       " Class :character   \n",
       " Mode  :character   \n",
       "                    \n",
       "                    \n",
       "                    \n",
       "                    "
      ]
     },
     "metadata": {},
     "output_type": "display_data"
    }
   ],
   "source": [
    "summary(Datos_edad_fallecidos) "
   ]
  },
  {
   "cell_type": "code",
   "execution_count": 12,
   "id": "056d8034-708f-4966-9349-520d490d8c3c",
   "metadata": {},
   "outputs": [],
   "source": [
    "#9)Transformar la columna CLASIFICACION_FINAL, con el valor de 1 si tiene 1, 2 o 3 como valor y que tenga 0 en cualquier otro caso\n",
    "\n",
    "Datos_Mod_Clas_Fin <- Datos %>% transform(CLASIFICACION_FINAL = case_when(\n",
    "CLASIFICACION_FINAL == 1 ~ 1,\n",
    "CLASIFICACION_FINAL == 2 ~ 1,\n",
    "CLASIFICACION_FINAL == 3 ~ 1,\n",
    "TRUE ~ 0\n",
    "))"
   ]
  },
  {
   "cell_type": "code",
   "execution_count": 13,
   "id": "97bffa56-1145-4980-8adb-b9e935c35316",
   "metadata": {},
   "outputs": [
    {
     "data": {
      "image/png": "[encoded data removed]",
      "text/plain": [
       "plot without title"
      ]
     },
     "metadata": {
      "image/png": {
       "height": 420,
       "width": 420
      }
     },
     "output_type": "display_data"
    }
   ],
   "source": [
    "# El numero de casos positivos agrupado por estado\n",
    "# y una grafica de barras de los 10 estados con mas casos\n",
    "\n",
    "Datos_estados <- Datos_Mod_Clas_Fin %>% \n",
    "  group_by(ENTIDAD_NAC) %>% \n",
    "  summarize(\"n\" = n()) %>% \n",
    "  arrange(desc(n)) \n",
    "\n",
    "ggplot(Datos_estados[1:10,], aes(x = ENTIDAD_NAC, y = n)) + geom_bar(stat=\"identity\")"
   ]
  },
  {
   "cell_type": "code",
   "execution_count": 14,
   "id": "903db6d7-5414-4f5a-bc06-b9d1bcdc87f4",
   "metadata": {},
   "outputs": [
    {
     "data": {
      "text/html": [
       "<style>\n",
       ".list-inline {list-style: none; margin:0; padding: 0}\n",
       ".list-inline>li {display: inline-block}\n",
       ".list-inline>li:not(:last-child)::after {content: \"\\00b7\"; padding: 0 .5ex}\n",
       "</style>\n",
       "<ol class=list-inline><li>'FECHA_ACTUALIZACION'</li><li>'ID_REGISTRO'</li><li>'ORIGEN'</li><li>'SECTOR'</li><li>'ENTIDAD_UM'</li><li>'SEXO'</li><li>'ENTIDAD_NAC'</li><li>'ENTIDAD_RES'</li><li>'MUNICIPIO_RES'</li><li>'TIPO_PACIENTE'</li><li>'FECHA_INGRESO'</li><li>'FECHA_SINTOMAS'</li><li>'FECHA_DEF'</li><li>'INTUBADO'</li><li>'NEUMONIA'</li><li>'EDAD'</li><li>'NACIONALIDAD'</li><li>'EMBARAZO'</li><li>'HABLA_LENGUA_INDIG'</li><li>'INDIGENA'</li><li>'DIABETES'</li><li>'EPOC'</li><li>'ASMA'</li><li>'INMUSUPR'</li><li>'HIPERTENSION'</li><li>'OTRA_COM'</li><li>'CARDIOVASCULAR'</li><li>'OBESIDAD'</li><li>'RENAL_CRONICA'</li><li>'TABAQUISMO'</li><li>'OTRO_CASO'</li><li>'TOMA_MUESTRA_LAB'</li><li>'RESULTADO_LAB'</li><li>'TOMA_MUESTRA_ANTIGENO'</li><li>'RESULTADO_ANTIGENO'</li><li>'CLASIFICACION_FINAL'</li><li>'MIGRANTE'</li><li>'PAIS_NACIONALIDAD'</li><li>'PAIS_ORIGEN'</li><li>'UCI'</li></ol>\n"
      ],
      "text/latex": [
       "\\begin{enumerate*}\n",
       "\\item 'FECHA\\_ACTUALIZACION'\n",
       "\\item 'ID\\_REGISTRO'\n",
       "\\item 'ORIGEN'\n",
       "\\item 'SECTOR'\n",
       "\\item 'ENTIDAD\\_UM'\n",
       "\\item 'SEXO'\n",
       "\\item 'ENTIDAD\\_NAC'\n",
       "\\item 'ENTIDAD\\_RES'\n",
       "\\item 'MUNICIPIO\\_RES'\n",
       "\\item 'TIPO\\_PACIENTE'\n",
       "\\item 'FECHA\\_INGRESO'\n",
       "\\item 'FECHA\\_SINTOMAS'\n",
       "\\item 'FECHA\\_DEF'\n",
       "\\item 'INTUBADO'\n",
       "\\item 'NEUMONIA'\n",
       "\\item 'EDAD'\n",
       "\\item 'NACIONALIDAD'\n",
       "\\item 'EMBARAZO'\n",
       "\\item 'HABLA\\_LENGUA\\_INDIG'\n",
       "\\item 'INDIGENA'\n",
       "\\item 'DIABETES'\n",
       "\\item 'EPOC'\n",
       "\\item 'ASMA'\n",
       "\\item 'INMUSUPR'\n",
       "\\item 'HIPERTENSION'\n",
       "\\item 'OTRA\\_COM'\n",
       "\\item 'CARDIOVASCULAR'\n",
       "\\item 'OBESIDAD'\n",
       "\\item 'RENAL\\_CRONICA'\n",
       "\\item 'TABAQUISMO'\n",
       "\\item 'OTRO\\_CASO'\n",
       "\\item 'TOMA\\_MUESTRA\\_LAB'\n",
       "\\item 'RESULTADO\\_LAB'\n",
       "\\item 'TOMA\\_MUESTRA\\_ANTIGENO'\n",
       "\\item 'RESULTADO\\_ANTIGENO'\n",
       "\\item 'CLASIFICACION\\_FINAL'\n",
       "\\item 'MIGRANTE'\n",
       "\\item 'PAIS\\_NACIONALIDAD'\n",
       "\\item 'PAIS\\_ORIGEN'\n",
       "\\item 'UCI'\n",
       "\\end{enumerate*}\n"
      ],
      "text/markdown": [
       "1. 'FECHA_ACTUALIZACION'\n",
       "2. 'ID_REGISTRO'\n",
       "3. 'ORIGEN'\n",
       "4. 'SECTOR'\n",
       "5. 'ENTIDAD_UM'\n",
       "6. 'SEXO'\n",
       "7. 'ENTIDAD_NAC'\n",
       "8. 'ENTIDAD_RES'\n",
       "9. 'MUNICIPIO_RES'\n",
       "10. 'TIPO_PACIENTE'\n",
       "11. 'FECHA_INGRESO'\n",
       "12. 'FECHA_SINTOMAS'\n",
       "13. 'FECHA_DEF'\n",
       "14. 'INTUBADO'\n",
       "15. 'NEUMONIA'\n",
       "16. 'EDAD'\n",
       "17. 'NACIONALIDAD'\n",
       "18. 'EMBARAZO'\n",
       "19. 'HABLA_LENGUA_INDIG'\n",
       "20. 'INDIGENA'\n",
       "21. 'DIABETES'\n",
       "22. 'EPOC'\n",
       "23. 'ASMA'\n",
       "24. 'INMUSUPR'\n",
       "25. 'HIPERTENSION'\n",
       "26. 'OTRA_COM'\n",
       "27. 'CARDIOVASCULAR'\n",
       "28. 'OBESIDAD'\n",
       "29. 'RENAL_CRONICA'\n",
       "30. 'TABAQUISMO'\n",
       "31. 'OTRO_CASO'\n",
       "32. 'TOMA_MUESTRA_LAB'\n",
       "33. 'RESULTADO_LAB'\n",
       "34. 'TOMA_MUESTRA_ANTIGENO'\n",
       "35. 'RESULTADO_ANTIGENO'\n",
       "36. 'CLASIFICACION_FINAL'\n",
       "37. 'MIGRANTE'\n",
       "38. 'PAIS_NACIONALIDAD'\n",
       "39. 'PAIS_ORIGEN'\n",
       "40. 'UCI'\n",
       "\n",
       "\n"
      ],
      "text/plain": [
       " [1] \"FECHA_ACTUALIZACION\"   \"ID_REGISTRO\"           \"ORIGEN\"               \n",
       " [4] \"SECTOR\"                \"ENTIDAD_UM\"            \"SEXO\"                 \n",
       " [7] \"ENTIDAD_NAC\"           \"ENTIDAD_RES\"           \"MUNICIPIO_RES\"        \n",
       "[10] \"TIPO_PACIENTE\"         \"FECHA_INGRESO\"         \"FECHA_SINTOMAS\"       \n",
       "[13] \"FECHA_DEF\"             \"INTUBADO\"              \"NEUMONIA\"             \n",
       "[16] \"EDAD\"                  \"NACIONALIDAD\"          \"EMBARAZO\"             \n",
       "[19] \"HABLA_LENGUA_INDIG\"    \"INDIGENA\"              \"DIABETES\"             \n",
       "[22] \"EPOC\"                  \"ASMA\"                  \"INMUSUPR\"             \n",
       "[25] \"HIPERTENSION\"          \"OTRA_COM\"              \"CARDIOVASCULAR\"       \n",
       "[28] \"OBESIDAD\"              \"RENAL_CRONICA\"         \"TABAQUISMO\"           \n",
       "[31] \"OTRO_CASO\"             \"TOMA_MUESTRA_LAB\"      \"RESULTADO_LAB\"        \n",
       "[34] \"TOMA_MUESTRA_ANTIGENO\" \"RESULTADO_ANTIGENO\"    \"CLASIFICACION_FINAL\"  \n",
       "[37] \"MIGRANTE\"              \"PAIS_NACIONALIDAD\"     \"PAIS_ORIGEN\"          \n",
       "[40] \"UCI\"                  "
      ]
     },
     "metadata": {},
     "output_type": "display_data"
    }
   ],
   "source": [
    "# Rename la columna llamada CLASIFICACION FINAL para que ahora su nombre sea: \"CONTAGIADO\"\n",
    "names(Datos)\n",
    "\n",
    "Datos  <- Datos %>% rename(CONTAGIADO = CLASIFICACION_FINAL)\n"
   ]
  },
  {
   "cell_type": "code",
   "execution_count": 15,
   "id": "23d6da7d-448d-4792-a07e-47342b38f189",
   "metadata": {},
   "outputs": [
    {
     "name": "stderr",
     "output_type": "stream",
     "text": [
      "\u001b[1mRows: \u001b[22m\u001b[34m100000\u001b[39m \u001b[1mColumns: \u001b[22m\u001b[34m40\u001b[39m\n",
      "\u001b[36m──\u001b[39m \u001b[1mColumn specification\u001b[22m \u001b[36m────────────────────────────────────────────────────────────────────────────────────────────────\u001b[39m\n",
      "\u001b[1mDelimiter:\u001b[22m \",\"\n",
      "\u001b[31mchr\u001b[39m   (7): ID_REGISTRO, ENTIDAD_UM, ENTIDAD_NAC, ENTIDAD_RES, MUNICIPIO_RES,...\n",
      "\u001b[32mdbl\u001b[39m  (29): ORIGEN, SECTOR, SEXO, TIPO_PACIENTE, INTUBADO, NEUMONIA, EDAD, NA...\n",
      "\u001b[34mdate\u001b[39m  (4): FECHA_ACTUALIZACION, FECHA_INGRESO, FECHA_SINTOMAS, FECHA_DEF\n",
      "\n",
      "\u001b[36mℹ\u001b[39m Use `spec()` to retrieve the full column specification for this data.\n",
      "\u001b[36mℹ\u001b[39m Specify the column types or set `show_col_types = FALSE` to quiet this message.\n"
     ]
    }
   ],
   "source": [
    "# Una funcion que al aplicarla nos diga el procentaje del total de registros que estan contagiados por Covid\n",
    "\n",
    "mi_dataframe <- read_csv(\"covid_dataset.csv\")\n",
    "\n",
    "porcentaje_contagiados <- function(mi_dataframe) {\n",
    "    mi_dataframe %>% \n",
    "    transform(CONTAGIADO = case_when(\n",
    "      CONTAGIADO == 1 ~ 1,\n",
    "      CONTAGIADO == 2 ~ 1,\n",
    "      CONTAGIADO == 3 ~ 1,\n",
    "      TRUE ~ 0\n",
    "    )) %>%\n",
    "    select(CONTAGIADO)\n",
    "    \n",
    "  sum(mi_dataframe$CONTAGIADO) / length(mi_dataframe$CONTAGIADO) * 100 \n",
    "  \n",
    "  }"
   ]
  },
  {
   "cell_type": "code",
   "execution_count": 16,
   "id": "85616d5b-a538-42a9-9ec3-43f8791b489d",
   "metadata": {},
   "outputs": [
    {
     "data": {
      "text/html": [
       "526.275"
      ],
      "text/latex": [
       "526.275"
      ],
      "text/markdown": [
       "526.275"
      ],
      "text/plain": [
       "[1] 526.275"
      ]
     },
     "metadata": {},
     "output_type": "display_data"
    }
   ],
   "source": [
    "porcentaje_contagiados(Datos)"
   ]
  },
  {
   "cell_type": "code",
   "execution_count": 17,
   "id": "b2bf96c1-bbe6-4c2f-a839-1607e878de28",
   "metadata": {},
   "outputs": [
    {
     "data": {
      "image/png": "[encoded data removed]",
      "text/plain": [
       "Plot with title \"\""
      ]
     },
     "metadata": {
      "image/png": {
       "height": 420,
       "width": 420
      }
     },
     "output_type": "display_data"
    }
   ],
   "source": [
    "#13)Realiza una matriz de corrrelacion entre las variables numericas \n",
    "\n",
    "nums <- unlist(lapply(Datos_columna_extra, is.numeric)) \n",
    "Datos_numericos <- Datos_columna_extra[,nums]\n",
    "\n",
    "cor(Datos_numericos) %>% corrplot()"
   ]
  },
  {
   "cell_type": "markdown",
   "id": "82451211-69ac-408c-a893-6fb833f5e115",
   "metadata": {},
   "source": [
    "Se concluye la relacion entre las mujeres embarazadas con la edad. De intubados con UCI, embarazos con sexo pero esa es un poco evidente. Es importante recalcar que existe una correlación mayor con las enfermedades\n",
    "respiratorias y cardiacas. "
   ]
  },
  {
   "cell_type": "code",
   "execution_count": 18,
   "id": "7bbacc89-0b1b-4a5b-a8a8-0e12bfeb0af7",
   "metadata": {},
   "outputs": [
    {
     "data": {
      "image/png": "[encoded data removed]",
      "text/plain": [
       "plot without title"
      ]
     },
     "metadata": {
      "image/png": {
       "height": 420,
       "width": 420
      }
     },
     "output_type": "display_data"
    },
    {
     "data": {
      "image/png": "[encoded data removed]",
      "text/plain": [
       "plot without title"
      ]
     },
     "metadata": {
      "image/png": {
       "height": 420,
       "width": 420
      }
     },
     "output_type": "display_data"
    },
    {
     "data": {
      "image/png": "[encoded data removed]",
      "text/plain": [
       "plot without title"
      ]
     },
     "metadata": {
      "image/png": {
       "height": 420,
       "width": 420
      }
     },
     "output_type": "display_data"
    }
   ],
   "source": [
    "# Vamos a ver la relacion que existe entre fallecimientos con, intubados e hipertensos. Vimos\n",
    "# Que la edad fue un factor importante.\n",
    "\n",
    "# Este data frame es con datos de personas que fallecieron\n",
    "Prom_14 <- Datos_columna_extra %>% filter(Categoria_Defuncion == 0)  %>%\n",
    "  select(EDAD, SEXO, NEUMONIA, HIPERTENSION, CARDIOVASCULAR) %>%\n",
    " transform(SEXO = case_when(\n",
    "  SEXO == 1 ~ \"Femenino\",\n",
    "  SEXO == 2 ~ \"Masculino\",\n",
    "  TRUE ~ \"No se especifica\"\n",
    " )) %>% \n",
    "  transform(NEUMONIA = case_when(\n",
    "    NEUMONIA == 1 ~ \"SI\",\n",
    "    NEUMONIA == 2 ~ \"NO\",\n",
    "    NEUMONIA == 97 ~ \"No aplica\",\n",
    "    TRUE ~ \"No se especifica\"\n",
    "  )) %>% \n",
    "  transform(HIPERTENSION = case_when(\n",
    "    HIPERTENSION == 1 ~ \"SI\",\n",
    "    HIPERTENSION == 2 ~ \"NO\",\n",
    "    HIPERTENSION == 97 ~ \"No aplica\",\n",
    "    TRUE ~ \"No se especifica\"\n",
    "  )) %>% \n",
    "  transform(CARDIOVASCULAR = case_when(\n",
    "    CARDIOVASCULAR == 1 ~ \"SI\",\n",
    "    CARDIOVASCULAR == 2 ~ \"NO\",\n",
    "    CARDIOVASCULAR == 97 ~ \"No aplica\",\n",
    "    TRUE ~ \"No se especifica\"\n",
    "  ))  \n",
    "\n",
    "\n",
    "ggplot(data = Prom_14, aes(x = as.factor(NEUMONIA), y =  EDAD, fill = SEXO )) + \n",
    "  geom_boxplot() + ylab(\"Edad\") + xlab(\"Neumonia\") + ggtitle(\"Fallecimientos relacionados con Neumonia\")\n",
    " \n",
    "\n",
    "ggplot(data = Prom_14, aes(x = as.factor(HIPERTENSION), y =  EDAD, fill = SEXO )) + \n",
    "  geom_boxplot() + ylab(\"Edad\") + xlab(\"Hipertensi?n\") + ggtitle(\"Fallecimientos relacionados con Hipertensi?n\")\n",
    "\n",
    "\n",
    "ggplot(data = Prom_14, aes(x = as.factor(CARDIOVASCULAR), y =  EDAD, fill = SEXO )) + \n",
    "  geom_boxplot() + ylab(\"Edad\") + xlab(\"CARDIOVASCULAR\") + ggtitle(\"Fallecimientos relacionados con problemas cardi?cos\")"
   ]
  },
  {
   "cell_type": "markdown",
   "id": "1e1e4f23-b121-499e-8bae-feeb3e532c82",
   "metadata": {},
   "source": [
    "Comentario: Se observa que las enfermedades relacionadas con el fallecimiento de las personas est? relacionadas con la edad. Por lo tanto el sustento de que la vacunaci?n sea por bloques de de edad est? sustentado. M?s a?n las personas con edad menor a 50 a?os que dieron positivo a covid no fallecieron, quedando los lamentables decesos como valores atipicos. "
   ]
  },
  {
   "cell_type": "code",
   "execution_count": 19,
   "id": "8b96d314-3004-48b8-8590-1fc98753bcc1",
   "metadata": {},
   "outputs": [
    {
     "data": {
      "text/html": [
       "<table class=\"dataframe\">\n",
       "<caption>A data.frame: 3 × 1</caption>\n",
       "<thead>\n",
       "\t<tr><th></th><th scope=col>.</th></tr>\n",
       "\t<tr><th></th><th scope=col>&lt;dbl&gt;</th></tr>\n",
       "</thead>\n",
       "<tbody>\n",
       "\t<tr><th scope=row>NEUMONIA</th><td> 6.684273</td></tr>\n",
       "\t<tr><th scope=row>HIPERTENSION</th><td>13.313834</td></tr>\n",
       "\t<tr><th scope=row>CARDIOVASCULAR</th><td> 1.349901</td></tr>\n",
       "</tbody>\n",
       "</table>\n"
      ],
      "text/latex": [
       "A data.frame: 3 × 1\n",
       "\\begin{tabular}{r|l}\n",
       "  & .\\\\\n",
       "  & <dbl>\\\\\n",
       "\\hline\n",
       "\tNEUMONIA &  6.684273\\\\\n",
       "\tHIPERTENSION & 13.313834\\\\\n",
       "\tCARDIOVASCULAR &  1.349901\\\\\n",
       "\\end{tabular}\n"
      ],
      "text/markdown": [
       "\n",
       "A data.frame: 3 × 1\n",
       "\n",
       "| <!--/--> | . &lt;dbl&gt; |\n",
       "|---|---|\n",
       "| NEUMONIA |  6.684273 |\n",
       "| HIPERTENSION | 13.313834 |\n",
       "| CARDIOVASCULAR |  1.349901 |\n",
       "\n"
      ],
      "text/plain": [
       "               .        \n",
       "NEUMONIA        6.684273\n",
       "HIPERTENSION   13.313834\n",
       "CARDIOVASCULAR  1.349901"
      ]
     },
     "metadata": {},
     "output_type": "display_data"
    }
   ],
   "source": [
    "Calculos <- Datos_columna_extra %>% filter(Categoria_Defuncion == 0)  %>%\n",
    "  select( NEUMONIA, HIPERTENSION, CARDIOVASCULAR) %>%\n",
    "  transform(NEUMONIA = case_when(\n",
    "    NEUMONIA == 1 ~ 1,\n",
    "    NEUMONIA == 2 ~ 0,\n",
    "    NEUMONIA == 97 ~ 0,\n",
    "    TRUE ~ 0\n",
    "  )) %>% \n",
    "  transform(HIPERTENSION = case_when(\n",
    "    HIPERTENSION == 1 ~ 1,\n",
    "    HIPERTENSION == 2 ~ 0,\n",
    "    HIPERTENSION == 97 ~ 0,\n",
    "    TRUE ~ 0\n",
    "  )) %>% \n",
    "  transform(CARDIOVASCULAR = case_when(\n",
    "    CARDIOVASCULAR == 1 ~ 1,\n",
    "    CARDIOVASCULAR == 2 ~ 0,\n",
    "    CARDIOVASCULAR == 97 ~ 0,\n",
    "    TRUE ~ 0\n",
    "  )) %>%\n",
    "  sapply(sum) %>% as.data.frame()\n",
    "\n",
    "\n",
    "(Calculos <- Calculos/length(Prom_14$EDAD) *100) \n",
    "\n"
   ]
  },
  {
   "cell_type": "markdown",
   "id": "d803870b-35a1-4078-ab2e-d9000ef81d58",
   "metadata": {},
   "source": [
    "Comentarios: Los calculos anteriores muestran que la porci?n de la presencia# de enfermedades cardio respiraotiras en los casos donde la persona lamentablemente falleció. Dando que estas personas fueron y son el sector mas susceptible a la enfermedad en cuestión."
   ]
  }
 ],
 "metadata": {
  "kernelspec": {
   "display_name": "R",
   "language": "R",
   "name": "ir"
  },
  "language_info": {
   "codemirror_mode": "r",
   "file_extension": ".r",
   "mimetype": "text/x-r-source",
   "name": "R",
   "pygments_lexer": "r",
   "version": "4.2.0"
  }
 },
 "nbformat": 4,
 "nbformat_minor": 5
}
