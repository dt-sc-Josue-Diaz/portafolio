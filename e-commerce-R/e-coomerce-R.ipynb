{
 "cells": [
  {
   "cell_type": "markdown",
   "id": "8abce032-45c1-475a-864f-0fb33656d6a6",
   "metadata": {},
   "source": [
    "# `ggplot2` "
   ]
  },
  {
   "cell_type": "code",
   "execution_count": 1,
   "id": "ebed1bd9-4299-403e-8307-d34d0e2f0c49",
   "metadata": {
    "vscode": {
     "languageId": "r"
    }
   },
   "outputs": [
    {
     "name": "stderr",
     "output_type": "stream",
     "text": [
      "── \u001b[1mAttaching core tidyverse packages\u001b[22m ──────────────────────── tidyverse 2.0.0 ──\n",
      "\u001b[32m✔\u001b[39m \u001b[34mdplyr    \u001b[39m 1.1.4     \u001b[32m✔\u001b[39m \u001b[34mreadr    \u001b[39m 2.1.4\n",
      "\u001b[32m✔\u001b[39m \u001b[34mforcats  \u001b[39m 1.0.0     \u001b[32m✔\u001b[39m \u001b[34mstringr  \u001b[39m 1.5.1\n",
      "\u001b[32m✔\u001b[39m \u001b[34mggplot2  \u001b[39m 3.4.4     \u001b[32m✔\u001b[39m \u001b[34mtibble   \u001b[39m 3.2.1\n",
      "\u001b[32m✔\u001b[39m \u001b[34mlubridate\u001b[39m 1.9.3     \u001b[32m✔\u001b[39m \u001b[34mtidyr    \u001b[39m 1.3.0\n",
      "\u001b[32m✔\u001b[39m \u001b[34mpurrr    \u001b[39m 1.0.2     \n",
      "── \u001b[1mConflicts\u001b[22m ────────────────────────────────────────── tidyverse_conflicts() ──\n",
      "\u001b[31m✖\u001b[39m \u001b[34mdplyr\u001b[39m::\u001b[32mfilter()\u001b[39m masks \u001b[34mstats\u001b[39m::filter()\n",
      "\u001b[31m✖\u001b[39m \u001b[34mdplyr\u001b[39m::\u001b[32mlag()\u001b[39m    masks \u001b[34mstats\u001b[39m::lag()\n",
      "\u001b[36mℹ\u001b[39m Use the conflicted package (\u001b[3m\u001b[34m<http://conflicted.r-lib.org/>\u001b[39m\u001b[23m) to force all conflicts to become errors\n"
     ]
    }
   ],
   "source": [
    "library(tidyverse)"
   ]
  },
  {
   "cell_type": "code",
   "execution_count": 4,
   "id": "858c4969-cbbc-4bb6-aec4-b838ba65a768",
   "metadata": {
    "vscode": {
     "languageId": "r"
    }
   },
   "outputs": [],
   "source": [
    "e_commer_raw_data <- read_csv(\"E-commerce Website Logs new.csv\",show_col_types = FALSE)"
   ]
  },
  {
   "cell_type": "code",
   "execution_count": 5,
   "id": "9ccd814b",
   "metadata": {
    "vscode": {
     "languageId": "r"
    }
   },
   "outputs": [
    {
     "data": {
      "text/html": [
       "<style>\n",
       ".list-inline {list-style: none; margin:0; padding: 0}\n",
       ".list-inline>li {display: inline-block}\n",
       ".list-inline>li:not(:last-child)::after {content: \"\\00b7\"; padding: 0 .5ex}\n",
       "</style>\n",
       "<ol class=list-inline><li>'spec_tbl_df'</li><li>'tbl_df'</li><li>'tbl'</li><li>'data.frame'</li></ol>\n"
      ],
      "text/latex": [
       "\\begin{enumerate*}\n",
       "\\item 'spec\\_tbl\\_df'\n",
       "\\item 'tbl\\_df'\n",
       "\\item 'tbl'\n",
       "\\item 'data.frame'\n",
       "\\end{enumerate*}\n"
      ],
      "text/markdown": [
       "1. 'spec_tbl_df'\n",
       "2. 'tbl_df'\n",
       "3. 'tbl'\n",
       "4. 'data.frame'\n",
       "\n",
       "\n"
      ],
      "text/plain": [
       "[1] \"spec_tbl_df\" \"tbl_df\"      \"tbl\"         \"data.frame\" "
      ]
     },
     "metadata": {},
     "output_type": "display_data"
    }
   ],
   "source": [
    "class(e_commer_raw_data)"
   ]
  },
  {
   "cell_type": "code",
   "execution_count": 6,
   "id": "a73a71db",
   "metadata": {
    "vscode": {
     "languageId": "r"
    }
   },
   "outputs": [
    {
     "data": {
      "text/html": [
       "<style>\n",
       ".list-inline {list-style: none; margin:0; padding: 0}\n",
       ".list-inline>li {display: inline-block}\n",
       ".list-inline>li:not(:last-child)::after {content: \"\\00b7\"; padding: 0 .5ex}\n",
       "</style>\n",
       "<ol class=list-inline><li>172838</li><li>15</li></ol>\n"
      ],
      "text/latex": [
       "\\begin{enumerate*}\n",
       "\\item 172838\n",
       "\\item 15\n",
       "\\end{enumerate*}\n"
      ],
      "text/markdown": [
       "1. 172838\n",
       "2. 15\n",
       "\n",
       "\n"
      ],
      "text/plain": [
       "[1] 172838     15"
      ]
     },
     "metadata": {},
     "output_type": "display_data"
    }
   ],
   "source": [
    "dim(e_commer_raw_data)"
   ]
  },
  {
   "cell_type": "code",
   "execution_count": 7,
   "id": "b2db87e7",
   "metadata": {
    "vscode": {
     "languageId": "r"
    }
   },
   "outputs": [
    {
     "name": "stdout",
     "output_type": "stream",
     "text": [
      "Rows: 172,838\n",
      "Columns: 15\n",
      "$ accessed_date     \u001b[3m\u001b[90m<dttm>\u001b[39m\u001b[23m 2017-03-14 17:43:57, 2017-03-14 17:43:57, 2017-03-1…\n",
      "$ `duration_(secs)` \u001b[3m\u001b[90m<dbl>\u001b[39m\u001b[23m 2533, 4034, 1525, 4572, 3652, 3847, 2090, 2793, 3396…\n",
      "$ network_protocol  \u001b[3m\u001b[90m<chr>\u001b[39m\u001b[23m \"TCP\", \"TCP\", \"TCP\", \"TCP\", \"TCP\", \"TCP\", \"TCP\", \"TC…\n",
      "$ ip                \u001b[3m\u001b[90m<chr>\u001b[39m\u001b[23m \"1.10.195.126\", \"1.1.217.211\", \"1.115.198.107\", \"1.1…\n",
      "$ bytes             \u001b[3m\u001b[90m<dbl>\u001b[39m\u001b[23m 20100, 20500, 90100, 100300, 270200, 10200, 310900, …\n",
      "$ accessed_Ffom     \u001b[3m\u001b[90m<chr>\u001b[39m\u001b[23m \"Chrome\", \"Mozilla Firefox\", \"Mozilla Firefox\", \"Moz…\n",
      "$ age               \u001b[3m\u001b[90m<chr>\u001b[39m\u001b[23m \"28\", \"21\", \"20\", \"66\", \"53\", \"28\", \"49\", \"32\", \"69\"…\n",
      "$ gender            \u001b[3m\u001b[90m<chr>\u001b[39m\u001b[23m \"Female\", \"Male\", \"Male\", \"Female\", \"Female\", \"Femal…\n",
      "$ country           \u001b[3m\u001b[90m<chr>\u001b[39m\u001b[23m \"CA\", \"AR\", \"PL\", \"IN\", \"KR\", \"CA\", \"CN\", \"AT\", \"US\"…\n",
      "$ membership        \u001b[3m\u001b[90m<chr>\u001b[39m\u001b[23m \"Normal\", \"Normal\", \"Normal\", \"Normal\", \"Normal\", \"N…\n",
      "$ language          \u001b[3m\u001b[90m<chr>\u001b[39m\u001b[23m \"English\", \"English\", \"English\", \"Spanish\", \"Spanish…\n",
      "$ sales             \u001b[3m\u001b[90m<chr>\u001b[39m\u001b[23m \"261.96\", \"731.94\", \"14.62\", \"9.575.775\", \"22.368\", …\n",
      "$ returned          \u001b[3m\u001b[90m<chr>\u001b[39m\u001b[23m \"No\", \"No\", \"No\", \"No\", \"No\", \"No\", \"Yes\", \"No\", \"No…\n",
      "$ returned_amount   \u001b[3m\u001b[90m<chr>\u001b[39m\u001b[23m \"0\", \"0\", \"0\", \"0\", \"0\", \"0\", \"9.575.775\", \"0\", \"0\",…\n",
      "$ pay_method        \u001b[3m\u001b[90m<chr>\u001b[39m\u001b[23m \"Credit Card\", \"Debit Card\", \"Cash\", \"Credit Card\", …\n"
     ]
    },
    {
     "ename": "",
     "evalue": "",
     "output_type": "error",
     "traceback": [
      "\u001b[1;31mThe Kernel crashed while executing code in the the current cell or a previous cell. Please review the code in the cell(s) to identify a possible cause of the failure. Click <a href='https://aka.ms/vscodeJupyterKernelCrash'>here</a> for more info. View Jupyter <a href='command:jupyter.viewOutput'>log</a> for further details."
     ]
    }
   ],
   "source": [
    "glimpse(e_commer_raw_data)"
   ]
  },
  {
   "cell_type": "code",
   "execution_count": null,
   "id": "c28ca453",
   "metadata": {
    "vscode": {
     "languageId": "r"
    }
   },
   "outputs": [],
   "source": []
  }
 ],
 "metadata": {
  "kernelspec": {
   "display_name": "R",
   "language": "R",
   "name": "ir"
  },
  "language_info": {
   "codemirror_mode": "r",
   "file_extension": ".r",
   "mimetype": "text/x-r-source",
   "name": "R",
   "pygments_lexer": "r",
   "version": "4.3.2"
  }
 },
 "nbformat": 4,
 "nbformat_minor": 5
}
